{
 "cells": [
  {
   "cell_type": "code",
   "execution_count": 3,
   "metadata": {},
   "outputs": [],
   "source": [
    "import pandas as pd"
   ]
  },
  {
   "cell_type": "code",
   "execution_count": 4,
   "metadata": {},
   "outputs": [],
   "source": [
    "df1 = pd.read_csv('../arabic_news_tokenized/arabic_news_train_tokenized.csv')\n",
    "df2 = pd.read_csv('../arabic_news_tokenized/arabic_news_test_tokenized.csv')\n",
    "df = pd.concat([df1, df2])"
   ]
  },
  {
   "cell_type": "code",
   "execution_count": 5,
   "metadata": {},
   "outputs": [
    {
     "data": {
      "text/html": [
       "<div>\n",
       "<style scoped>\n",
       "    .dataframe tbody tr th:only-of-type {\n",
       "        vertical-align: middle;\n",
       "    }\n",
       "\n",
       "    .dataframe tbody tr th {\n",
       "        vertical-align: top;\n",
       "    }\n",
       "\n",
       "    .dataframe thead th {\n",
       "        text-align: right;\n",
       "    }\n",
       "</style>\n",
       "<table border=\"1\" class=\"dataframe\">\n",
       "  <thead>\n",
       "    <tr style=\"text-align: right;\">\n",
       "      <th></th>\n",
       "      <th>Desc</th>\n",
       "      <th>Type</th>\n",
       "    </tr>\n",
       "  </thead>\n",
       "  <tbody>\n",
       "    <tr>\n",
       "      <td>0</td>\n",
       "      <td>\\n\\nصدر عن وزير العدل اللواء اشرف ريفي البيان ...</td>\n",
       "      <td>اخبار محلية</td>\n",
       "    </tr>\n",
       "    <tr>\n",
       "      <td>1</td>\n",
       "      <td>\\n\\nراى النائب حسن فضل الله ان \" سياسة التفرد ...</td>\n",
       "      <td>اخبار محلية</td>\n",
       "    </tr>\n",
       "    <tr>\n",
       "      <td>2</td>\n",
       "      <td>\\n\\nعقد رئيس التجمع الشعبي العكاري النائب السا...</td>\n",
       "      <td>اخبار محلية</td>\n",
       "    </tr>\n",
       "    <tr>\n",
       "      <td>3</td>\n",
       "      <td>\\n\\nتراس البطريرك الماروني الكاردينال مار بشار...</td>\n",
       "      <td>اخبار محلية</td>\n",
       "    </tr>\n",
       "    <tr>\n",
       "      <td>4</td>\n",
       "      <td>\\n\\nسمع صباحا في صغبين- البقاع دوي انفجار قوي ...</td>\n",
       "      <td>اخبار محلية</td>\n",
       "    </tr>\n",
       "  </tbody>\n",
       "</table>\n",
       "</div>"
      ],
      "text/plain": [
       "                                               Desc           Type\n",
       "0  \\n\\nصدر عن وزير العدل اللواء اشرف ريفي البيان ...   اخبار محلية\n",
       "1  \\n\\nراى النائب حسن فضل الله ان \" سياسة التفرد ...   اخبار محلية\n",
       "2  \\n\\nعقد رئيس التجمع الشعبي العكاري النائب السا...   اخبار محلية\n",
       "3  \\n\\nتراس البطريرك الماروني الكاردينال مار بشار...   اخبار محلية\n",
       "4  \\n\\nسمع صباحا في صغبين- البقاع دوي انفجار قوي ...   اخبار محلية"
      ]
     },
     "execution_count": 5,
     "metadata": {},
     "output_type": "execute_result"
    }
   ],
   "source": [
    "df.head()"
   ]
  },
  {
   "cell_type": "code",
   "execution_count": 6,
   "metadata": {},
   "outputs": [
    {
     "data": {
      "text/html": [
       "<div>\n",
       "<style scoped>\n",
       "    .dataframe tbody tr th:only-of-type {\n",
       "        vertical-align: middle;\n",
       "    }\n",
       "\n",
       "    .dataframe tbody tr th {\n",
       "        vertical-align: top;\n",
       "    }\n",
       "\n",
       "    .dataframe thead th {\n",
       "        text-align: right;\n",
       "    }\n",
       "</style>\n",
       "<table border=\"1\" class=\"dataframe\">\n",
       "  <thead>\n",
       "    <tr style=\"text-align: right;\">\n",
       "      <th></th>\n",
       "      <th>Desc</th>\n",
       "    </tr>\n",
       "    <tr>\n",
       "      <th>Type</th>\n",
       "      <th></th>\n",
       "    </tr>\n",
       "  </thead>\n",
       "  <tbody>\n",
       "    <tr>\n",
       "      <td>اخبار اقتصادية ومالية</td>\n",
       "      <td>12566</td>\n",
       "    </tr>\n",
       "    <tr>\n",
       "      <td>اخبار اقليمية ودولية</td>\n",
       "      <td>21214</td>\n",
       "    </tr>\n",
       "    <tr>\n",
       "      <td>اخبار رياضية</td>\n",
       "      <td>7495</td>\n",
       "    </tr>\n",
       "    <tr>\n",
       "      <td>اخبار فنية</td>\n",
       "      <td>8887</td>\n",
       "    </tr>\n",
       "    <tr>\n",
       "      <td>اخبار محلية</td>\n",
       "      <td>107582</td>\n",
       "    </tr>\n",
       "  </tbody>\n",
       "</table>\n",
       "</div>"
      ],
      "text/plain": [
       "                         Desc \n",
       " Type                         \n",
       " اخبار اقتصادية ومالية   12566\n",
       " اخبار اقليمية ودولية    21214\n",
       " اخبار رياضية             7495\n",
       " اخبار فنية               8887\n",
       " اخبار محلية            107582"
      ]
     },
     "execution_count": 6,
     "metadata": {},
     "output_type": "execute_result"
    }
   ],
   "source": [
    "df.groupby(' Type').count()"
   ]
  },
  {
   "cell_type": "code",
   "execution_count": 11,
   "metadata": {},
   "outputs": [],
   "source": [
    "all_categories = set(df[' Type'])\n",
    "category2ind = {cat:i for i,cat in enumerate(all_categories)}\n",
    "with open('{}/cat2ind.csv'.format(data_dir), 'w') as f:\n",
    "    for el in category2ind:\n",
    "        f.write('{},{}\\n'.format(el, category2ind[el]))\n",
    "    f.close()"
   ]
  },
  {
   "cell_type": "code",
   "execution_count": 14,
   "metadata": {},
   "outputs": [],
   "source": [
    "import random\n",
    "import os\n",
    "\n",
    "data_dir = 'data'\n",
    "data_train = []\n",
    "data_valid = []\n",
    "data_test = []\n",
    "\n",
    "for cat in all_categories:\n",
    "    documents = list(df.loc[df[' Type'] == cat]['Desc '])\n",
    "    documents = [document.replace('\\n', ' ').replace('\\r', ' ') for document in documents]\n",
    "    assert len(documents) > 7000\n",
    "    data_train += [(document, category2ind[cat]) for document in documents[:5000]]\n",
    "    data_valid += [(document, category2ind[cat]) for document in documents[5000:6000]]\n",
    "    data_test += [(document, category2ind[cat]) for document in documents[6000:7000]]\n",
    "    \n",
    "random.shuffle(data_train)\n",
    "random.shuffle(data_valid)\n",
    "random.shuffle(data_test)\n",
    "\n",
    "def write_data(data, subset):\n",
    "    with open('{}/{}_documents.txt'.format(data_dir, subset), 'w') as f1, open('{}/{}_labels.txt'.format(data_dir, subset), 'w') as f2:\n",
    "        for element in data:\n",
    "            f1.write('{}\\n'.format(element[0]))\n",
    "            f2.write('{}\\n'.format(element[1]))\n",
    "        f1.close()\n",
    "        f1.close()\n",
    "\n",
    "if not os.path.isdir(data_dir):\n",
    "    os.mkdir(data_dir)\n",
    "\n",
    "write_data(data_train, 'train')\n",
    "write_data(data_valid, 'valid')\n",
    "write_data(data_test, 'test')"
   ]
  }
 ],
 "metadata": {
  "kernelspec": {
   "display_name": "Python 3",
   "language": "python",
   "name": "python3"
  },
  "language_info": {
   "codemirror_mode": {
    "name": "ipython",
    "version": 3
   },
   "file_extension": ".py",
   "mimetype": "text/x-python",
   "name": "python",
   "nbconvert_exporter": "python",
   "pygments_lexer": "ipython3",
   "version": "3.7.4"
  }
 },
 "nbformat": 4,
 "nbformat_minor": 2
}
