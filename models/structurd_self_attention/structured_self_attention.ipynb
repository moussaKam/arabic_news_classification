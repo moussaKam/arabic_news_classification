{
 "cells": [
  {
   "cell_type": "code",
   "execution_count": 75,
   "metadata": {},
   "outputs": [],
   "source": [
    "from model import Model\n",
    "import sys\n",
    "import torch\n",
    "sys.path += ['../']\n",
    "from data_loader import get_loader\n",
    "from train_evaluate import *\n",
    "import arabic_reshaper\n",
    "from bidi.algorithm import get_display\n",
    "import matplotlib.pyplot as plt\n",
    "\n",
    "# for reproducibility\n",
    "torch.manual_seed(0)\n",
    "torch.backends.cudnn.deterministic = True\n",
    "torch.backends.cudnn.benchmark = False\n",
    "import numpy as np\n",
    "np.random.seed(0)\n",
    "\n",
    "device = torch.device('cuda' if torch.cuda.is_available() else 'cpu')"
   ]
  },
  {
   "cell_type": "code",
   "execution_count": 2,
   "metadata": {},
   "outputs": [],
   "source": [
    "path_cat2ind = '../../data/cat2ind.csv'\n",
    "path_word_count = '../../data/word2count.txt'\n",
    "\n",
    "#load index to category mapping\n",
    "ind2category = {}\n",
    "word2ind = {'PAD':0, 'OOV':1}\n",
    "with open(path_cat2ind, encoding='utf-8') as f:\n",
    "    for line in f:\n",
    "        mapping = line.split(',')\n",
    "        ind2category[int(mapping[1])] = mapping[0]\n",
    "\n",
    "\n",
    "#load word to index mapping\n",
    "count = 2\n",
    "with open(path_word_count) as f:\n",
    "    for line in f:\n",
    "        mapping = line.split('\\t')\n",
    "        word2ind[mapping[0]] = count\n",
    "        count+=1\n",
    "\n",
    "vocab_size = count"
   ]
  },
  {
   "cell_type": "code",
   "execution_count": 3,
   "metadata": {},
   "outputs": [],
   "source": [
    "model = Model(embedding_size=100, hidden_size=128, d_a=50, number_attention=5,\n",
    "              vocab_size=vocab_size, number_classes=len(ind2category), regularization_coeff=0.01, device=device)\n",
    "model = model.to(device)"
   ]
  },
  {
   "cell_type": "code",
   "execution_count": 4,
   "metadata": {},
   "outputs": [
    {
     "name": "stdout",
     "output_type": "stream",
     "text": [
      "-----EPOCH1-----\n",
      "Iteration: 300, Time: 16.6517 s, training loss: 1.0997\n",
      "Iteration: 600, Time: 33.0798 s, training loss: 0.4830\n",
      "Iteration: 900, Time: 49.3726 s, training loss: 0.3741\n",
      "Iteration: 1200, Time: 65.5938 s, training loss: 0.3385\n",
      "Iteration: 1500, Time: 81.4252 s, training loss: 0.3089\n",
      "Epoch 1 done: training_accuracy = 0.951, validation_accuracy = 0.910\n",
      "validation accuracy improved: saving checkpoint...\n",
      "checkpoint saved to: ../../checkpoints_structured_self_attention/best_checkpoint.pt\n",
      "-----EPOCH2-----\n",
      "Iteration: 1800, Time: 172.6740 s, training loss: 0.2651\n",
      "Iteration: 2100, Time: 188.7288 s, training loss: 0.1861\n",
      "Iteration: 2400, Time: 205.3096 s, training loss: 0.1650\n",
      "Iteration: 2700, Time: 221.4497 s, training loss: 0.1529\n",
      "Iteration: 3000, Time: 237.1601 s, training loss: 0.1599\n",
      "Epoch 2 done: training_accuracy = 0.984, validation_accuracy = 0.917\n",
      "validation accuracy improved: saving checkpoint...\n",
      "checkpoint saved to: ../../checkpoints_structured_self_attention/best_checkpoint.pt\n",
      "-----EPOCH3-----\n",
      "Iteration: 3300, Time: 329.3597 s, training loss: 0.1470\n",
      "Iteration: 3600, Time: 345.5150 s, training loss: 0.1154\n",
      "Iteration: 3900, Time: 361.8250 s, training loss: 0.0954\n",
      "Iteration: 4200, Time: 378.0598 s, training loss: 0.0913\n",
      "Iteration: 4500, Time: 393.8026 s, training loss: 0.0756\n",
      "Epoch 3 done: training_accuracy = 0.993, validation_accuracy = 0.920\n",
      "validation accuracy improved: saving checkpoint...\n",
      "checkpoint saved to: ../../checkpoints_structured_self_attention/best_checkpoint.pt\n",
      "-----EPOCH4-----\n",
      "Iteration: 4800, Time: 484.8018 s, training loss: 0.0825\n",
      "Iteration: 5100, Time: 501.0363 s, training loss: 0.0723\n",
      "Iteration: 5400, Time: 517.1275 s, training loss: 0.0685\n",
      "Iteration: 5700, Time: 533.1343 s, training loss: 0.0626\n",
      "Iteration: 6000, Time: 549.3828 s, training loss: 0.0640\n",
      "Epoch 4 done: training_accuracy = 0.996, validation_accuracy = 0.914\n",
      "-----EPOCH5-----\n",
      "Iteration: 6300, Time: 639.5818 s, training loss: 0.0674\n",
      "Iteration: 6600, Time: 655.8987 s, training loss: 0.0575\n",
      "Iteration: 6900, Time: 672.2114 s, training loss: 0.0565\n",
      "Iteration: 7200, Time: 688.3787 s, training loss: 0.0566\n",
      "Iteration: 7500, Time: 704.2865 s, training loss: 0.0552\n",
      "Iteration: 7800, Time: 720.5339 s, training loss: 0.0508\n",
      "Epoch 5 done: training_accuracy = 0.998, validation_accuracy = 0.915\n",
      "Validation is not improving. stopping training\n"
     ]
    }
   ],
   "source": [
    "path_checkpoints = '../../checkpoints_structured_self_attention'\n",
    "\n",
    "path_documents_train = '../../data/train_documents.txt'\n",
    "path_labels_train = '../../data/train_labels.txt'\n",
    "path_documents_valid = '../../data/valid_documents.txt'\n",
    "path_labels_valid = '../../data/valid_labels.txt'\n",
    "trainModel(model, path_documents_train, path_labels_train, path_documents_valid, path_labels_valid,\n",
    "           word2ind, path_checkpoints, n_epochs=10, printEvery=300)"
   ]
  },
  {
   "cell_type": "code",
   "execution_count": 10,
   "metadata": {},
   "outputs": [],
   "source": [
    "def load_model(model_path):\n",
    "    my_model = Model(embedding_size=100, hidden_size=128, d_a=50, number_attention=5,\n",
    "                           vocab_size=vocab_size, number_classes=len(ind2category),\n",
    "                           regularization_coeff=0.01, device=device)\n",
    "    my_model.load_state_dict(torch.load(model_path,\n",
    "                                        map_location=torch.device(device)))\n",
    "    return my_model\n",
    "\n",
    "my_model = load_model(os.path.join(path_checkpoints, 'model.pt'))\n",
    "my_model = my_model.to(device)"
   ]
  },
  {
   "cell_type": "code",
   "execution_count": 14,
   "metadata": {},
   "outputs": [
    {
     "data": {
      "text/plain": [
       "0.9107979910714287"
      ]
     },
     "execution_count": 14,
     "metadata": {},
     "output_type": "execute_result"
    }
   ],
   "source": [
    "path_documents_test = '../../data/test_documents.txt'\n",
    "path_labels_test = '../../data/test_labels.txt'\n",
    "\n",
    "loader = get_loader(path_documents_test, path_labels_test, word2ind, str(device), batch_size=512)\n",
    "evaluate(my_model, loader)"
   ]
  },
  {
   "cell_type": "code",
   "execution_count": 29,
   "metadata": {},
   "outputs": [],
   "source": [
    "loader = get_loader(path_documents_test, path_labels_test, word2ind, str(device), batch_size=1)"
   ]
  },
  {
   "cell_type": "code",
   "execution_count": 88,
   "metadata": {},
   "outputs": [
    {
     "name": "stdout",
     "output_type": "stream",
     "text": [
      "tensor([[ 4344,   306,    78,  4958, 14774,  4850,  2483,     3,   122,     3,\n",
      "          2688,  3666,    28,   357,   250,  2161, 10367,   783, 17758,     2,\n",
      "           336,    19,   192,   934,     3,    90,   345,   186,   233,     6,\n",
      "          1510,    10,   111,  1596,    15,   839,   201,   845,  2452,     6,\n",
      "           166, 20288,   826, 36690,    33, 53934,  1144,    13,  8266,  1371,\n",
      "             7,   770,  1198,  5918, 65302,     4,  1456, 17758,   282,     9,\n",
      "            52,     2,  1215,  1144,    13,     8, 17033,  4344,  9317,     3,\n",
      "           830,  5520,   154, 27853,   457,     3,  7527, 11582,    19,   833,\n",
      "             9, 21010,     5]], device='cuda:0') tensor([1], device='cuda:0')\n",
      "استهدفت الولايات المتحدة عضوا بارزا بتنظيم القاعدة في سوريا في ضربة جوية اليوم الاثنين وما زالت تقيم نتائج الضربة ، بحسب ما اعلن مسؤول في وزارة الدفاع الاميركية ل \" رويترز \". واضاف المسؤول الذي طلب عدم نشر اسمه \" لن نناقش عمليات بعينها او ننشر معلومات عن الضربات الجوية على اهداف مهمة لحين تاكدنا من نجاح الضربة .\" الى ذلك ، ذكرت معلومات عن ان الغارة استهدفت القيادي في فتح الشام ابو الفرج المصري في ريف ادلب ما ادى الى مقتله .\n"
     ]
    }
   ],
   "source": [
    "b = next(iter(loader))\n",
    "tensor = b[0].permute(1,0)\n",
    "print(tensor, b[1])\n",
    "\n",
    "ind2word = {el[1]:el[0] for el in list(word2ind.items())}\n",
    "# sequence to text\n",
    "text = [ind2word.get(ind.item()) for ind in tensor[0]]\n",
    "# reshaped for a better display for arabic text\n",
    "text_reshaped = [get_display(arabic_reshaper.reshape(el)) for el in text]\n",
    "print((' ').join(text))"
   ]
  },
  {
   "cell_type": "code",
   "execution_count": 86,
   "metadata": {},
   "outputs": [
    {
     "data": {
      "text/plain": [
       "<matplotlib.image.AxesImage at 0x7efb8cb253d0>"
      ]
     },
     "execution_count": 86,
     "metadata": {},
     "output_type": "execute_result"
    },
    {
     "data": {
      "image/png": "[encoded data removed]",
      "text/plain": [
       "<Figure size 1440x1440 with 1 Axes>"
      ]
     },
     "metadata": {
      "needs_background": "light"
     },
     "output_type": "display_data"
    }
   ],
   "source": [
    "plt.figure(figsize = (20,20))\n",
    "# plt.title('regularization: {}'.format(regularizations[i]))\n",
    "prediction, attention = my_model.forward(b[0])\n",
    "# move to cpu \n",
    "# detach from model\n",
    "# get numpy array\n",
    "A_to_visualize = attention.cpu().detach().numpy()[0, :, :]\n",
    "plt.yticks(ticks = np.arange(A_to_visualize.shape[-1]),\n",
    "           labels=text_reshaped)\n",
    "plt.xticks([])\n",
    "plt.imshow(A_to_visualize.T, cmap=plt.cm.Blues)"
   ]
  }
 ],
 "metadata": {
  "kernelspec": {
   "display_name": "Python 3",
   "language": "python",
   "name": "python3"
  },
  "language_info": {
   "codemirror_mode": {
    "name": "ipython",
    "version": 3
   },
   "file_extension": ".py",
   "mimetype": "text/x-python",
   "name": "python",
   "nbconvert_exporter": "python",
   "pygments_lexer": "ipython3",
   "version": "3.7.4"
  }
 },
 "nbformat": 4,
 "nbformat_minor": 4
}
