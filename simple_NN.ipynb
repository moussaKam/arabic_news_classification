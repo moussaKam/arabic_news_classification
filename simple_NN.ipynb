{
 "cells": [
  {
   "cell_type": "markdown",
   "metadata": {},
   "source": [
    "In this notebook we implement a simple (yet efficient) neural network for supervised text classification.\n",
    "\n",
    "The input sequence of words is first passed to an embedding layer. The vectors at the output of the embedding layer are then averged into the text representation vector. Finally the text representation vector is linearly projected to the output vector that is followed by a softmax activation function.\n",
    "\n",
    "__For more details:__ A Joulin, E Grave, P Bojanowski, T Mikolov - arXiv preprint arXiv:1607.01759, 2016\n",
    "https://arxiv.org/pdf/1607.01759.pdf\n"
   ]
  },
  {
   "cell_type": "code",
   "execution_count": 1,
   "metadata": {},
   "outputs": [],
   "source": [
    "import torch\n",
    "from torch import nn\n",
    "from torch import optim\n",
    "from data_loader import get_loader\n",
    "import time\n",
    "\n",
    "device = torch.device('cuda' if torch.cuda.is_available() else 'cpu')"
   ]
  },
  {
   "cell_type": "markdown",
   "metadata": {},
   "source": [
    "Let's start by implementing the model as described before."
   ]
  },
  {
   "cell_type": "code",
   "execution_count": null,
   "metadata": {},
   "outputs": [],
   "source": [
    "class Model(nn.Module):\n",
    "    def __init__(self, embedding_size, vocab_size, number_classes):\n",
    "        super(Model, self).__init__()\n",
    "        self.embedding_size = embedding_size # embedding space dimension\n",
    "        self.vocab_size = vocab_size\n",
    "        self.embedding = nn.Embedding(vocab_size, embedding_size)\n",
    "        self.linear = nn.Linear(embedding_size, number_classes)\n",
    "        self.softmax = nn.LogSoftmax(dim=-1)\n",
    "\n",
    "    def forward(self, input_tensor):\n",
    "        batch_size = input_tensor.shape[0]\n",
    "        x = self.embedding(input_tensor) # seq_len * batch_size * embedding_size\n",
    "        x = torch.mean(x, 0) # batch_size * embedding_size\n",
    "        logits = self.linear(x) # batch_size * number_classes\n",
    "        return self.softmax(logits)"
   ]
  },
  {
   "cell_type": "markdown",
   "metadata": {},
   "source": [
    "Now we write a function that trains the model by applying one update. This is equivalent to:\n",
    "* One forward propagation. \n",
    "* Computing the gradients through back-propagation. \n",
    "* Updating the weights using a specific optimizer (Adam in this case)"
   ]
  },
  {
   "cell_type": "code",
   "execution_count": 3,
   "metadata": {},
   "outputs": [],
   "source": [
    "def trainOneBatch(model, batch_input, optimizer, criterion):\n",
    "    optimizer.zero_grad()\n",
    "    sequences = batch_input[0] # get input sequence of shape: batch_size * sequence_len\n",
    "    targets = batch_input[1] # get targets of shape : batch_size\n",
    "    out = model.forward(sequences) # shape: batch_size * number_classes \n",
    "    loss = criterion(out, targets)\n",
    "    loss.backward() # compute the gradient\n",
    "    optimizer.step() # update network parameters\n",
    "    return loss.item() # return loss value"
   ]
  },
  {
   "cell_type": "markdown",
   "metadata": {},
   "source": [
    "To evaluate the model we need a function that computes the accuracy of the predictions."
   ]
  },
  {
   "cell_type": "code",
   "execution_count": 9,
   "metadata": {},
   "outputs": [],
   "source": [
    "def evaluate(model, data_loader):\n",
    "    count_batch = 0\n",
    "    accuracy = 0\n",
    "    for batch in data_loader:\n",
    "        sequences = batch[0]\n",
    "        target = batch[1]\n",
    "        out = model.forward(sequences)\n",
    "        predicted = torch.argmax(out, -1)\n",
    "        accuracy += torch.sum(predicted==target).item()/(sequences.shape[-1])\n",
    "        count_batch += 1\n",
    "    accuracy = accuracy/count_batch\n",
    "    return accuracy"
   ]
  },
  {
   "cell_type": "markdown",
   "metadata": {},
   "source": [
    "It's time to train the model. The model will be trained for $n$ epochs. In each epoch a new dataloader is used to generate the mini-batches used in the training.\n",
    "\n",
    "After each epoch, the model is evaluated on the training and the validation set, to verify that no overfitting is occuring."
   ]
  },
  {
   "cell_type": "code",
   "execution_count": 18,
   "metadata": {},
   "outputs": [],
   "source": [
    "def trainModel(model, path_documents_train, path_labels_train, path_documents_valid, \n",
    "               path_labels_valid, word2ind, n_epochs=5, batch_size=16,  printEvery=100):\n",
    "    data_loader_train_params = (path_documents_train, path_labels_train, word2ind, str(device), batch_size)\n",
    "    data_loader_valid_params = (path_documents_valid, path_labels_valid, word2ind, str(device), batch_size)\n",
    "    epoch = 0\n",
    "    loss = 0\n",
    "    count_iter = 0\n",
    "    optimizer = optim.Adam(model.parameters(), lr=0.0015)\n",
    "    #negative log likelihood\n",
    "    criterion = nn.NLLLoss()\n",
    "    time1 = time.time()\n",
    "    training_accuracy_epochs = [] # save training accuracy for each epoch\n",
    "    validation_accuracy_epochs = [] # save validation accuracy for each epoch \n",
    "    for i in range(n_epochs):\n",
    "        loader = get_loader(*data_loader_train_params)\n",
    "        for batch in loader:\n",
    "            loss += trainOneBatch(model, batch, optimizer, criterion)\n",
    "            count_iter += 1\n",
    "            if count_iter % printEvery == 0:\n",
    "                time2 = time.time()\n",
    "                print(\"Iteration: {0}, Time: {1:.4f} s, training loss: {2:.4f}\".format(count_iter,\n",
    "                                                                          time2 - time1, loss/printEvery))\n",
    "                loss = 0\n",
    "        training_accuracy = evaluate(model, get_loader(*data_loader_train_params))\n",
    "        validation_accuracy = evaluate(model, get_loader(*data_loader_valid_params))\n",
    "        print('Epoch {0} done: training_accuracy = {1:.3f}, validation_accuracy = {2:.3f}'.format(i+1, training_accuracy, validation_accuracy))"
   ]
  },
  {
   "cell_type": "code",
   "execution_count": 19,
   "metadata": {},
   "outputs": [],
   "source": [
    "path_cat2ind = 'data/cat2ind.csv'\n",
    "path_word_count = 'data/word2count.txt'\n",
    "\n",
    "#load index to category mapping\n",
    "ind2category = {}\n",
    "word2ind = {'PAD':0, 'OOV':1}\n",
    "with open(path_cat2ind, encoding='utf-8') as f:\n",
    "    for line in f:\n",
    "        mapping = line.split(',')\n",
    "        ind2category[int(mapping[1])] = mapping[0]\n",
    "\n",
    "#load word to index mapping\n",
    "count = 2\n",
    "with open(path_word_count) as f:\n",
    "    for line in f:\n",
    "        mapping = line.split('\\t')\n",
    "        word2ind[mapping[0]] = count\n",
    "        count+=1"
   ]
  },
  {
   "cell_type": "code",
   "execution_count": 24,
   "metadata": {},
   "outputs": [],
   "source": [
    "my_model = Model(50, len(word2ind), len(ind2category)).to(device)"
   ]
  },
  {
   "cell_type": "code",
   "execution_count": 25,
   "metadata": {},
   "outputs": [
    {
     "name": "stdout",
     "output_type": "stream",
     "text": [
      "Iteration: 300, Time: 1.4388 s, training loss: 1.5830\n",
      "Iteration: 600, Time: 2.7316 s, training loss: 1.4717\n",
      "Iteration: 900, Time: 4.0555 s, training loss: 1.2740\n",
      "Iteration: 1200, Time: 5.3446 s, training loss: 1.0362\n",
      "Iteration: 1500, Time: 6.6182 s, training loss: 0.8424\n",
      "Epoch 1 done: training_accuracy = 0.841, validation_accuracy = 0.803\n",
      "Iteration: 1800, Time: 10.9914 s, training loss: 0.6899\n",
      "Iteration: 2100, Time: 12.2999 s, training loss: 0.5625\n",
      "Iteration: 2400, Time: 13.6255 s, training loss: 0.4971\n",
      "Iteration: 2700, Time: 14.9367 s, training loss: 0.4236\n",
      "Iteration: 3000, Time: 16.2334 s, training loss: 0.3873\n",
      "Epoch 2 done: training_accuracy = 0.936, validation_accuracy = 0.902\n",
      "Iteration: 3300, Time: 20.4897 s, training loss: 0.3551\n",
      "Iteration: 3600, Time: 21.7920 s, training loss: 0.3050\n",
      "Iteration: 3900, Time: 23.0869 s, training loss: 0.2888\n",
      "Iteration: 4200, Time: 24.4169 s, training loss: 0.2621\n",
      "Iteration: 4500, Time: 25.7423 s, training loss: 0.2461\n",
      "Epoch 3 done: training_accuracy = 0.958, validation_accuracy = 0.922\n",
      "Iteration: 4800, Time: 30.0216 s, training loss: 0.2437\n",
      "Iteration: 5100, Time: 31.3373 s, training loss: 0.2159\n",
      "Iteration: 5400, Time: 32.6590 s, training loss: 0.2025\n",
      "Iteration: 5700, Time: 33.9593 s, training loss: 0.1855\n",
      "Iteration: 6000, Time: 35.2843 s, training loss: 0.1806\n",
      "Epoch 4 done: training_accuracy = 0.970, validation_accuracy = 0.931\n",
      "Iteration: 6300, Time: 39.5673 s, training loss: 0.1779\n",
      "Iteration: 6600, Time: 40.9259 s, training loss: 0.1633\n",
      "Iteration: 6900, Time: 42.2479 s, training loss: 0.1492\n",
      "Iteration: 7200, Time: 43.5649 s, training loss: 0.1479\n",
      "Iteration: 7500, Time: 44.8937 s, training loss: 0.1360\n",
      "Iteration: 7800, Time: 46.2322 s, training loss: 0.1383\n",
      "Epoch 5 done: training_accuracy = 0.978, validation_accuracy = 0.935\n",
      "Iteration: 8100, Time: 50.5461 s, training loss: 0.1271\n",
      "Iteration: 8400, Time: 51.8350 s, training loss: 0.1151\n",
      "Iteration: 8700, Time: 53.1406 s, training loss: 0.1169\n",
      "Iteration: 9000, Time: 54.4715 s, training loss: 0.0993\n",
      "Iteration: 9300, Time: 55.7800 s, training loss: 0.1091\n",
      "Epoch 6 done: training_accuracy = 0.983, validation_accuracy = 0.938\n",
      "Iteration: 9600, Time: 60.0290 s, training loss: 0.1013\n",
      "Iteration: 9900, Time: 61.3381 s, training loss: 0.0890\n",
      "Iteration: 10200, Time: 62.6616 s, training loss: 0.0911\n",
      "Iteration: 10500, Time: 63.9946 s, training loss: 0.0802\n",
      "Iteration: 10800, Time: 65.2618 s, training loss: 0.0856\n",
      "Epoch 7 done: training_accuracy = 0.987, validation_accuracy = 0.940\n",
      "Iteration: 11100, Time: 69.3914 s, training loss: 0.0755\n",
      "Iteration: 11400, Time: 70.7400 s, training loss: 0.0753\n",
      "Iteration: 11700, Time: 72.0661 s, training loss: 0.0691\n",
      "Iteration: 12000, Time: 73.3868 s, training loss: 0.0667\n",
      "Iteration: 12300, Time: 74.5934 s, training loss: 0.0630\n",
      "Epoch 8 done: training_accuracy = 0.990, validation_accuracy = 0.941\n",
      "Iteration: 12600, Time: 78.6857 s, training loss: 0.0622\n",
      "Iteration: 12900, Time: 79.8383 s, training loss: 0.0585\n",
      "Iteration: 13200, Time: 80.9686 s, training loss: 0.0538\n",
      "Iteration: 13500, Time: 82.1172 s, training loss: 0.0547\n",
      "Iteration: 13800, Time: 83.2525 s, training loss: 0.0506\n",
      "Epoch 9 done: training_accuracy = 0.992, validation_accuracy = 0.941\n",
      "Iteration: 14100, Time: 87.4175 s, training loss: 0.0496\n",
      "Iteration: 14400, Time: 88.5644 s, training loss: 0.0465\n",
      "Iteration: 14700, Time: 89.7633 s, training loss: 0.0423\n",
      "Iteration: 15000, Time: 91.1057 s, training loss: 0.0440\n",
      "Iteration: 15300, Time: 92.4170 s, training loss: 0.0388\n",
      "Iteration: 15600, Time: 93.7168 s, training loss: 0.0419\n",
      "Epoch 10 done: training_accuracy = 0.993, validation_accuracy = 0.941\n"
     ]
    }
   ],
   "source": [
    "path_documents_train = 'data/train_documents.txt'\n",
    "path_labels_train = 'data/train_labels.txt'\n",
    "path_documents_valid = 'data/valid_documents.txt'\n",
    "path_labels_valid = 'data/valid_labels.txt'\n",
    "trainModel(my_model, path_documents_train, path_labels_train, path_documents_valid,\n",
    "           path_labels_valid, word2ind, n_epochs=10, printEvery=300)"
   ]
  },
  {
   "cell_type": "code",
   "execution_count": null,
   "metadata": {},
   "outputs": [],
   "source": []
  }
 ],
 "metadata": {
  "kernelspec": {
   "display_name": "Python 3",
   "language": "python",
   "name": "python3"
  },
  "language_info": {
   "codemirror_mode": {
    "name": "ipython",
    "version": 3
   },
   "file_extension": ".py",
   "mimetype": "text/x-python",
   "name": "python",
   "nbconvert_exporter": "python",
   "pygments_lexer": "ipython3",
   "version": "3.7.4"
  }
 },
 "nbformat": 4,
 "nbformat_minor": 4
}
